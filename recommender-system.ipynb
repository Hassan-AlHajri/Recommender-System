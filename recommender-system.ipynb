{
 "cells": [
  {
   "cell_type": "markdown",
   "metadata": {},
   "source": [
    "#  First you need to install graphlab from here https://turi.com/download/install-graphlab-create.html\n",
    "# It works with anaconda2 v4\n",
    "# you can download the data from MovieLens or from the link https://grouplens.org/datasets/movielens/100k/\n",
    "# It has \n",
    "# • 100,000 ratings (1-5) from 943 users on 682 movies.\n",
    "# • Each user has rated at least 20 movies.\n",
    "# • Simple demographic info for the users (age, gender, occupation, zip)\n"
   ]
  },
  {
   "cell_type": "code",
   "execution_count": 8,
   "metadata": {
    "collapsed": false
   },
   "outputs": [
    {
     "name": "stderr",
     "output_type": "stream",
     "text": [
      "C:\\Users\\Acer\\Anaconda2\\lib\\site-packages\\matplotlib\\__init__.py:1350: UserWarning:  This call to matplotlib.use() has no effect\n",
      "because the backend has already been chosen;\n",
      "matplotlib.use() must be called *before* pylab, matplotlib.pyplot,\n",
      "or matplotlib.backends is imported for the first time.\n",
      "\n",
      "  warnings.warn(_use_error_msg)\n"
     ]
    }
   ],
   "source": [
    "import pandas as pd\n",
    "import numpy as np\n",
    "import graphlab\n",
    "import graphlab as gl\n",
    "from graphlab import SFrame\n",
    "import matplotlib as mpl\n",
    "mpl.use('TkAgg')\n",
    "from matplotlib import pyplot as plt\n",
    "%matplotlib inline"
   ]
  },
  {
   "cell_type": "markdown",
   "metadata": {},
   "source": [
    "# if you got the error \n",
    "1. Ensure user account has write permission to C:\\Users\\...\\graphlab\n",
    "2. Run graphlab.get_dependencies() to download and install them.\n",
    "3. Restart Python and import graphlab again.\n",
    "then you need to run \"graphlab.get_dependencies()\" in the command"
   ]
  },
  {
   "cell_type": "code",
   "execution_count": 9,
   "metadata": {
    "collapsed": false
   },
   "outputs": [
    {
     "name": "stdout",
     "output_type": "stream",
     "text": [
      "<class 'pandas.core.frame.DataFrame'>\n",
      "RangeIndex: 100000 entries, 0 to 99999\n",
      "Data columns (total 3 columns):\n",
      "user_id    100000 non-null int64\n",
      "item_id    100000 non-null int64\n",
      "rating     100000 non-null int64\n",
      "dtypes: int64(3)\n",
      "memory usage: 2.3 MB\n"
     ]
    },
    {
     "data": {
      "image/png": "[encoded data removed]",
      "text/plain": [
       "<matplotlib.figure.Figure at 0x1d82358>"
      ]
     },
     "metadata": {},
     "output_type": "display_data"
    },
    {
     "name": "stdout",
     "output_type": "stream",
     "text": [
      "number of ratings 100000\n",
      "number of movies 1682\n",
      "number of users 943\n"
     ]
    }
   ],
   "source": [
    "\n",
    "col_names = [\"user_id\", \"item_id\", \"rating\", \"timestamp\"]\n",
    "data = pd.read_table(\"u.data\", names=col_names)\n",
    "data = data.drop(\"timestamp\", 1) # drop time stamp because it has no meaningful use\n",
    "data.info()\n",
    "plt.hist(data[\"rating\"])\n",
    "plt.show()\n",
    "Number_Ratings = len(data)\n",
    "Number_Movies = len(np.unique(data[\"item_id\"]))\n",
    "Number_Users = len(np.unique(data[\"user_id\"]))\n",
    "\n",
    "print(\"number of ratings \"+str(Number_Ratings))\n",
    "print(\"number of movies \"+str(Number_Movies))\n",
    "print(\"number of users \"+str(Number_Users))"
   ]
  },
  {
   "cell_type": "markdown",
   "metadata": {},
   "source": [
    "# Here we splite the data into train and test, train gets 70% of the data and test gets 30% of the data."
   ]
  },
  {
   "cell_type": "code",
   "execution_count": 10,
   "metadata": {
    "collapsed": true
   },
   "outputs": [],
   "source": [
    "from sklearn.cross_validation import train_test_split\n",
    "train, test = train_test_split(data, test_size = 0.3)"
   ]
  },
  {
   "cell_type": "markdown",
   "metadata": {},
   "source": [
    "# Here I'm using SFrame to scale the data.\n",
    "# SFrame is a tabular, column-mutable dataframe object that can scale to big data, which allows you to work with datasets that are larger than the amount of RAM on your system"
   ]
  },
  {
   "cell_type": "code",
   "execution_count": 11,
   "metadata": {
    "collapsed": false
   },
   "outputs": [
    {
     "data": {
      "text/html": [
       "<pre>Finished parsing file C:\\Users\\Acer\\Documents\\Recommender system\\u.csv</pre>"
      ],
      "text/plain": [
       "Finished parsing file C:\\Users\\Acer\\Documents\\Recommender system\\u.csv"
      ]
     },
     "metadata": {},
     "output_type": "display_data"
    },
    {
     "data": {
      "text/html": [
       "<pre>Parsing completed. Parsed 100 lines in 0.128159 secs.</pre>"
      ],
      "text/plain": [
       "Parsing completed. Parsed 100 lines in 0.128159 secs."
      ]
     },
     "metadata": {},
     "output_type": "display_data"
    },
    {
     "name": "stdout",
     "output_type": "stream",
     "text": [
      "------------------------------------------------------\n",
      "Inferred types from first 100 line(s) of file as \n",
      "column_type_hints=[str]\n",
      "If parsing fails due to incorrect types, you can correct\n",
      "the inferred type list above and pass it to read_csv in\n",
      "the column_type_hints argument\n",
      "------------------------------------------------------\n"
     ]
    },
    {
     "data": {
      "text/html": [
       "<pre>Finished parsing file C:\\Users\\Acer\\Documents\\Recommender system\\u.csv</pre>"
      ],
      "text/plain": [
       "Finished parsing file C:\\Users\\Acer\\Documents\\Recommender system\\u.csv"
      ]
     },
     "metadata": {},
     "output_type": "display_data"
    },
    {
     "data": {
      "text/html": [
       "<pre>Parsing completed. Parsed 99999 lines in 0.079179 secs.</pre>"
      ],
      "text/plain": [
       "Parsing completed. Parsed 99999 lines in 0.079179 secs."
      ]
     },
     "metadata": {},
     "output_type": "display_data"
    }
   ],
   "source": [
    "import pandas\n",
    "df = pandas.DataFrame()\n",
    "sf = SFrame(data=df)\n",
    "sf = SFrame(data='u.csv')"
   ]
  },
  {
   "cell_type": "markdown",
   "metadata": {},
   "source": [
    "# In popularity when no target column is provided, the popularity is determined by the number of observations involving each item. When a target is provided, popularity is computed using the item’s mean target value"
   ]
  },
  {
   "cell_type": "code",
   "execution_count": 12,
   "metadata": {
    "collapsed": false
   },
   "outputs": [
    {
     "name": "stdout",
     "output_type": "stream",
     "text": [
      "___________________popularity___________________\n"
     ]
    },
    {
     "data": {
      "text/html": [
       "<pre>Recsys training: model = popularity</pre>"
      ],
      "text/plain": [
       "Recsys training: model = popularity"
      ]
     },
     "metadata": {},
     "output_type": "display_data"
    },
    {
     "data": {
      "text/html": [
       "<pre>Preparing data set.</pre>"
      ],
      "text/plain": [
       "Preparing data set."
      ]
     },
     "metadata": {},
     "output_type": "display_data"
    },
    {
     "data": {
      "text/html": [
       "<pre>    Data has 70000 observations with 943 users and 1641 items.</pre>"
      ],
      "text/plain": [
       "    Data has 70000 observations with 943 users and 1641 items."
      ]
     },
     "metadata": {},
     "output_type": "display_data"
    },
    {
     "data": {
      "text/html": [
       "<pre>    Data prepared in: 0.096006s</pre>"
      ],
      "text/plain": [
       "    Data prepared in: 0.096006s"
      ]
     },
     "metadata": {},
     "output_type": "display_data"
    },
    {
     "data": {
      "text/html": [
       "<pre>70000 observations to process; with 1641 unique items.</pre>"
      ],
      "text/plain": [
       "70000 observations to process; with 1641 unique items."
      ]
     },
     "metadata": {},
     "output_type": "display_data"
    },
    {
     "name": "stdout",
     "output_type": "stream",
     "text": [
      "+---------+---------+-------+------+\n",
      "| user_id | item_id | score | rank |\n",
      "+---------+---------+-------+------+\n",
      "|    1    |   1629  |  5.0  |  1   |\n",
      "|    1    |   1599  |  5.0  |  2   |\n",
      "|    1    |   1536  |  5.0  |  3   |\n",
      "|    1    |   1293  |  5.0  |  4   |\n",
      "|    1    |   1398  |  5.0  |  5   |\n",
      "|    2    |   1629  |  5.0  |  1   |\n",
      "|    2    |   1599  |  5.0  |  2   |\n",
      "|    2    |   1536  |  5.0  |  3   |\n",
      "|    2    |   1293  |  5.0  |  4   |\n",
      "|    2    |   1398  |  5.0  |  5   |\n",
      "|    3    |   1629  |  5.0  |  1   |\n",
      "|    3    |   1599  |  5.0  |  2   |\n",
      "|    3    |   1536  |  5.0  |  3   |\n",
      "|    3    |   1293  |  5.0  |  4   |\n",
      "|    3    |   1398  |  5.0  |  5   |\n",
      "|    4    |   1629  |  5.0  |  1   |\n",
      "|    4    |   1599  |  5.0  |  2   |\n",
      "|    4    |   1536  |  5.0  |  3   |\n",
      "|    4    |   1293  |  5.0  |  4   |\n",
      "|    4    |   1398  |  5.0  |  5   |\n",
      "|    5    |   1629  |  5.0  |  1   |\n",
      "|    5    |   1599  |  5.0  |  2   |\n",
      "|    5    |   1536  |  5.0  |  3   |\n",
      "|    5    |   1293  |  5.0  |  4   |\n",
      "|    5    |   1398  |  5.0  |  5   |\n",
      "+---------+---------+-------+------+\n",
      "[25 rows x 4 columns]\n",
      "\n"
     ]
    }
   ],
   "source": [
    "print(\"___________________popularity___________________\")\n",
    "   \n",
    "popularity_model=graphlab.recommender.popularity_recommender.create(SFrame(train), user_id='user_id',\n",
    "item_id='item_id', target='rating', user_data=None, item_data=None, random_seed=0, \n",
    "verbose=True)\n",
    "popularity_recomm = popularity_model.recommend(users=[1,2,3,4,5],k=5) # k is the number of movies to recommend\n",
    "popularity_recomm.print_rows(num_rows=25) #print the first 25 row"
   ]
  },
  {
   "cell_type": "markdown",
   "metadata": {},
   "source": [
    "# The idea behind factorization is to represent users and items in a lower dimensional latent space, by using matrix factorization as well as factorization machines models"
   ]
  },
  {
   "cell_type": "code",
   "execution_count": 13,
   "metadata": {
    "collapsed": false
   },
   "outputs": [
    {
     "name": "stdout",
     "output_type": "stream",
     "text": [
      "_________________facrorization____________________\n"
     ]
    },
    {
     "data": {
      "text/html": [
       "<pre>Recsys training: model = factorization_recommender</pre>"
      ],
      "text/plain": [
       "Recsys training: model = factorization_recommender"
      ]
     },
     "metadata": {},
     "output_type": "display_data"
    },
    {
     "data": {
      "text/html": [
       "<pre>Preparing data set.</pre>"
      ],
      "text/plain": [
       "Preparing data set."
      ]
     },
     "metadata": {},
     "output_type": "display_data"
    },
    {
     "data": {
      "text/html": [
       "<pre>    Data has 70000 observations with 943 users and 1641 items.</pre>"
      ],
      "text/plain": [
       "    Data has 70000 observations with 943 users and 1641 items."
      ]
     },
     "metadata": {},
     "output_type": "display_data"
    },
    {
     "data": {
      "text/html": [
       "<pre>    Data prepared in: 0.09072s</pre>"
      ],
      "text/plain": [
       "    Data prepared in: 0.09072s"
      ]
     },
     "metadata": {},
     "output_type": "display_data"
    },
    {
     "data": {
      "text/html": [
       "<pre>Training factorization_recommender for recommendations.</pre>"
      ],
      "text/plain": [
       "Training factorization_recommender for recommendations."
      ]
     },
     "metadata": {},
     "output_type": "display_data"
    },
    {
     "data": {
      "text/html": [
       "<pre>+--------------------------------+--------------------------------------------------+----------+</pre>"
      ],
      "text/plain": [
       "+--------------------------------+--------------------------------------------------+----------+"
      ]
     },
     "metadata": {},
     "output_type": "display_data"
    },
    {
     "data": {
      "text/html": [
       "<pre>| Parameter                      | Description                                      | Value    |</pre>"
      ],
      "text/plain": [
       "| Parameter                      | Description                                      | Value    |"
      ]
     },
     "metadata": {},
     "output_type": "display_data"
    },
    {
     "data": {
      "text/html": [
       "<pre>+--------------------------------+--------------------------------------------------+----------+</pre>"
      ],
      "text/plain": [
       "+--------------------------------+--------------------------------------------------+----------+"
      ]
     },
     "metadata": {},
     "output_type": "display_data"
    },
    {
     "data": {
      "text/html": [
       "<pre>| num_factors                    | Factor Dimension                                 | 8        |</pre>"
      ],
      "text/plain": [
       "| num_factors                    | Factor Dimension                                 | 8        |"
      ]
     },
     "metadata": {},
     "output_type": "display_data"
    },
    {
     "data": {
      "text/html": [
       "<pre>| regularization                 | L2 Regularization on Factors                     | 1e-008   |</pre>"
      ],
      "text/plain": [
       "| regularization                 | L2 Regularization on Factors                     | 1e-008   |"
      ]
     },
     "metadata": {},
     "output_type": "display_data"
    },
    {
     "data": {
      "text/html": [
       "<pre>| solver                         | Solver used for training                         | sgd      |</pre>"
      ],
      "text/plain": [
       "| solver                         | Solver used for training                         | sgd      |"
      ]
     },
     "metadata": {},
     "output_type": "display_data"
    },
    {
     "data": {
      "text/html": [
       "<pre>| linear_regularization          | L2 Regularization on Linear Coefficients         | 1e-010   |</pre>"
      ],
      "text/plain": [
       "| linear_regularization          | L2 Regularization on Linear Coefficients         | 1e-010   |"
      ]
     },
     "metadata": {},
     "output_type": "display_data"
    },
    {
     "data": {
      "text/html": [
       "<pre>| max_iterations                 | Maximum Number of Iterations                     | 50       |</pre>"
      ],
      "text/plain": [
       "| max_iterations                 | Maximum Number of Iterations                     | 50       |"
      ]
     },
     "metadata": {},
     "output_type": "display_data"
    },
    {
     "data": {
      "text/html": [
       "<pre>+--------------------------------+--------------------------------------------------+----------+</pre>"
      ],
      "text/plain": [
       "+--------------------------------+--------------------------------------------------+----------+"
      ]
     },
     "metadata": {},
     "output_type": "display_data"
    },
    {
     "data": {
      "text/html": [
       "<pre>  Optimizing model using SGD; tuning step size.</pre>"
      ],
      "text/plain": [
       "  Optimizing model using SGD; tuning step size."
      ]
     },
     "metadata": {},
     "output_type": "display_data"
    },
    {
     "data": {
      "text/html": [
       "<pre>  Using 10000 / 70000 points for tuning the step size.</pre>"
      ],
      "text/plain": [
       "  Using 10000 / 70000 points for tuning the step size."
      ]
     },
     "metadata": {},
     "output_type": "display_data"
    },
    {
     "data": {
      "text/html": [
       "<pre>+---------+-------------------+------------------------------------------+</pre>"
      ],
      "text/plain": [
       "+---------+-------------------+------------------------------------------+"
      ]
     },
     "metadata": {},
     "output_type": "display_data"
    },
    {
     "data": {
      "text/html": [
       "<pre>| Attempt | Initial Step Size | Estimated Objective Value                |</pre>"
      ],
      "text/plain": [
       "| Attempt | Initial Step Size | Estimated Objective Value                |"
      ]
     },
     "metadata": {},
     "output_type": "display_data"
    },
    {
     "data": {
      "text/html": [
       "<pre>+---------+-------------------+------------------------------------------+</pre>"
      ],
      "text/plain": [
       "+---------+-------------------+------------------------------------------+"
      ]
     },
     "metadata": {},
     "output_type": "display_data"
    },
    {
     "data": {
      "text/html": [
       "<pre>| 0       | 25                | Not Viable                               |</pre>"
      ],
      "text/plain": [
       "| 0       | 25                | Not Viable                               |"
      ]
     },
     "metadata": {},
     "output_type": "display_data"
    },
    {
     "data": {
      "text/html": [
       "<pre>| 1       | 6.25              | Not Viable                               |</pre>"
      ],
      "text/plain": [
       "| 1       | 6.25              | Not Viable                               |"
      ]
     },
     "metadata": {},
     "output_type": "display_data"
    },
    {
     "data": {
      "text/html": [
       "<pre>| 2       | 1.5625            | Not Viable                               |</pre>"
      ],
      "text/plain": [
       "| 2       | 1.5625            | Not Viable                               |"
      ]
     },
     "metadata": {},
     "output_type": "display_data"
    },
    {
     "data": {
      "text/html": [
       "<pre>| 3       | 0.390625          | Not Viable                               |</pre>"
      ],
      "text/plain": [
       "| 3       | 0.390625          | Not Viable                               |"
      ]
     },
     "metadata": {},
     "output_type": "display_data"
    },
    {
     "data": {
      "text/html": [
       "<pre>| 4       | 0.0976562         | 0.687929                                 |</pre>"
      ],
      "text/plain": [
       "| 4       | 0.0976562         | 0.687929                                 |"
      ]
     },
     "metadata": {},
     "output_type": "display_data"
    },
    {
     "data": {
      "text/html": [
       "<pre>| 5       | 0.0488281         | 0.720427                                 |</pre>"
      ],
      "text/plain": [
       "| 5       | 0.0488281         | 0.720427                                 |"
      ]
     },
     "metadata": {},
     "output_type": "display_data"
    },
    {
     "data": {
      "text/html": [
       "<pre>| 6       | 0.0244141         | 0.778132                                 |</pre>"
      ],
      "text/plain": [
       "| 6       | 0.0244141         | 0.778132                                 |"
      ]
     },
     "metadata": {},
     "output_type": "display_data"
    },
    {
     "data": {
      "text/html": [
       "<pre>| 7       | 0.012207          | 0.856195                                 |</pre>"
      ],
      "text/plain": [
       "| 7       | 0.012207          | 0.856195                                 |"
      ]
     },
     "metadata": {},
     "output_type": "display_data"
    },
    {
     "data": {
      "text/html": [
       "<pre>+---------+-------------------+------------------------------------------+</pre>"
      ],
      "text/plain": [
       "+---------+-------------------+------------------------------------------+"
      ]
     },
     "metadata": {},
     "output_type": "display_data"
    },
    {
     "data": {
      "text/html": [
       "<pre>| Final   | 0.0976562         | 0.687929                                 |</pre>"
      ],
      "text/plain": [
       "| Final   | 0.0976562         | 0.687929                                 |"
      ]
     },
     "metadata": {},
     "output_type": "display_data"
    },
    {
     "data": {
      "text/html": [
       "<pre>+---------+-------------------+------------------------------------------+</pre>"
      ],
      "text/plain": [
       "+---------+-------------------+------------------------------------------+"
      ]
     },
     "metadata": {},
     "output_type": "display_data"
    },
    {
     "data": {
      "text/html": [
       "<pre>Starting Optimization.</pre>"
      ],
      "text/plain": [
       "Starting Optimization."
      ]
     },
     "metadata": {},
     "output_type": "display_data"
    },
    {
     "data": {
      "text/html": [
       "<pre>+---------+--------------+-------------------+-----------------------+-------------+</pre>"
      ],
      "text/plain": [
       "+---------+--------------+-------------------+-----------------------+-------------+"
      ]
     },
     "metadata": {},
     "output_type": "display_data"
    },
    {
     "data": {
      "text/html": [
       "<pre>| Iter.   | Elapsed Time | Approx. Objective | Approx. Training RMSE | Step Size   |</pre>"
      ],
      "text/plain": [
       "| Iter.   | Elapsed Time | Approx. Objective | Approx. Training RMSE | Step Size   |"
      ]
     },
     "metadata": {},
     "output_type": "display_data"
    },
    {
     "data": {
      "text/html": [
       "<pre>+---------+--------------+-------------------+-----------------------+-------------+</pre>"
      ],
      "text/plain": [
       "+---------+--------------+-------------------+-----------------------+-------------+"
      ]
     },
     "metadata": {},
     "output_type": "display_data"
    },
    {
     "data": {
      "text/html": [
       "<pre>| Initial | 0us          | 1.26976           | 1.12684               |             |</pre>"
      ],
      "text/plain": [
       "| Initial | 0us          | 1.26976           | 1.12684               |             |"
      ]
     },
     "metadata": {},
     "output_type": "display_data"
    },
    {
     "data": {
      "text/html": [
       "<pre>+---------+--------------+-------------------+-----------------------+-------------+</pre>"
      ],
      "text/plain": [
       "+---------+--------------+-------------------+-----------------------+-------------+"
      ]
     },
     "metadata": {},
     "output_type": "display_data"
    },
    {
     "data": {
      "text/html": [
       "<pre>| 1       | 40.003ms     | 1.07745           | 1.038                 | 0.0976562   |</pre>"
      ],
      "text/plain": [
       "| 1       | 40.003ms     | 1.07745           | 1.038                 | 0.0976562   |"
      ]
     },
     "metadata": {},
     "output_type": "display_data"
    },
    {
     "data": {
      "text/html": [
       "<pre>| 2       | 68.009ms     | 0.937067          | 0.968019              | 0.0580668   |</pre>"
      ],
      "text/plain": [
       "| 2       | 68.009ms     | 0.937067          | 0.968019              | 0.0580668   |"
      ]
     },
     "metadata": {},
     "output_type": "display_data"
    },
    {
     "data": {
      "text/html": [
       "<pre>| 3       | 96.007ms     | 0.842087          | 0.917648              | 0.042841    |</pre>"
      ],
      "text/plain": [
       "| 3       | 96.007ms     | 0.842087          | 0.917648              | 0.042841    |"
      ]
     },
     "metadata": {},
     "output_type": "display_data"
    },
    {
     "data": {
      "text/html": [
       "<pre>| 4       | 124.008ms    | 0.762941          | 0.873457              | 0.0345267   |</pre>"
      ],
      "text/plain": [
       "| 4       | 124.008ms    | 0.762941          | 0.873457              | 0.0345267   |"
      ]
     },
     "metadata": {},
     "output_type": "display_data"
    },
    {
     "data": {
      "text/html": [
       "<pre>| 5       | 156.011ms    | 0.700645          | 0.837035              | 0.029206    |</pre>"
      ],
      "text/plain": [
       "| 5       | 156.011ms    | 0.700645          | 0.837035              | 0.029206    |"
      ]
     },
     "metadata": {},
     "output_type": "display_data"
    },
    {
     "data": {
      "text/html": [
       "<pre>| 6       | 184.013ms    | 0.65392           | 0.80864               | 0.0254734   |</pre>"
      ],
      "text/plain": [
       "| 6       | 184.013ms    | 0.65392           | 0.80864               | 0.0254734   |"
      ]
     },
     "metadata": {},
     "output_type": "display_data"
    },
    {
     "data": {
      "text/html": [
       "<pre>| 11      | 344.024ms    | 0.554697          | 0.744759              | 0.016168    |</pre>"
      ],
      "text/plain": [
       "| 11      | 344.024ms    | 0.554697          | 0.744759              | 0.016168    |"
      ]
     },
     "metadata": {},
     "output_type": "display_data"
    },
    {
     "data": {
      "text/html": [
       "<pre>| 50      | 1.89s        | 0.463548          | 0.680807              | 0.00519365  |</pre>"
      ],
      "text/plain": [
       "| 50      | 1.89s        | 0.463548          | 0.680807              | 0.00519365  |"
      ]
     },
     "metadata": {},
     "output_type": "display_data"
    },
    {
     "data": {
      "text/html": [
       "<pre>+---------+--------------+-------------------+-----------------------+-------------+</pre>"
      ],
      "text/plain": [
       "+---------+--------------+-------------------+-----------------------+-------------+"
      ]
     },
     "metadata": {},
     "output_type": "display_data"
    },
    {
     "data": {
      "text/html": [
       "<pre>Optimization Complete: Maximum number of passes through the data reached.</pre>"
      ],
      "text/plain": [
       "Optimization Complete: Maximum number of passes through the data reached."
      ]
     },
     "metadata": {},
     "output_type": "display_data"
    },
    {
     "data": {
      "text/html": [
       "<pre>Computing final objective value and training RMSE.</pre>"
      ],
      "text/plain": [
       "Computing final objective value and training RMSE."
      ]
     },
     "metadata": {},
     "output_type": "display_data"
    },
    {
     "data": {
      "text/html": [
       "<pre>       Final objective value: 0.439372</pre>"
      ],
      "text/plain": [
       "       Final objective value: 0.439372"
      ]
     },
     "metadata": {},
     "output_type": "display_data"
    },
    {
     "data": {
      "text/html": [
       "<pre>       Final training RMSE: 0.662814</pre>"
      ],
      "text/plain": [
       "       Final training RMSE: 0.662814"
      ]
     },
     "metadata": {},
     "output_type": "display_data"
    },
    {
     "name": "stdout",
     "output_type": "stream",
     "text": [
      "+---------+---------+---------------+------+\n",
      "| user_id | item_id |     score     | rank |\n",
      "+---------+---------+---------------+------+\n",
      "|    1    |   253   | 6.04269708771 |  1   |\n",
      "|    1    |   896   | 5.94200314659 |  2   |\n",
      "|    1    |   169   | 5.86152829308 |  3   |\n",
      "|    1    |   647   | 5.46032394547 |  4   |\n",
      "|    1    |   1449  | 5.41100801605 |  5   |\n",
      "|    2    |   641   | 6.29115913886 |  1   |\n",
      "|    2    |   640   | 6.26002787131 |  2   |\n",
      "|    2    |   887   |  6.012564645  |  3   |\n",
      "|    2    |   516   | 5.95384691733 |  4   |\n",
      "|    2    |   615   | 5.91874335784 |  5   |\n",
      "|    3    |   525   | 6.35893998373 |  1   |\n",
      "|    3    |   641   | 6.25947556723 |  2   |\n",
      "|    3    |   741   | 6.17355618704 |  3   |\n",
      "|    3    |   200   | 6.10770879019 |  4   |\n",
      "|    3    |   1233  | 6.05138573873 |  5   |\n",
      "|    4    |   207   | 6.95469737876 |  1   |\n",
      "|    4    |   780   | 6.82228089202 |  2   |\n",
      "|    4    |   1084  | 6.77851439345 |  3   |\n",
      "|    4    |   613   | 6.74913574088 |  4   |\n",
      "|    4    |   921   | 6.73864079345 |  5   |\n",
      "|    5    |   253   | 6.32968945134 |  1   |\n",
      "|    5    |   512   | 6.05595225919 |  2   |\n",
      "|    5    |   818   | 5.98700685132 |  3   |\n",
      "|    5    |   896   | 5.97242779363 |  4   |\n",
      "|    5    |   169   | 5.95198912251 |  5   |\n",
      "+---------+---------+---------------+------+\n",
      "[25 rows x 4 columns]\n",
      "\n"
     ]
    }
   ],
   "source": [
    "print(\"_________________facrorization____________________\")\n",
    "factorization_model=graphlab.recommender.factorization_recommender.create(SFrame(train), user_id='user_id',\n",
    "item_id='item_id', target='rating', user_data=None, item_data=None, num_factors=8,\n",
    "regularization=1e-08, linear_regularization=1e-10, side_data_factorization=True,\n",
    "nmf=False, binary_target=False, max_iterations=50, sgd_step_size=0,\n",
    "random_seed=0, solver='auto', verbose=True)\n",
    "\n",
    "factorization_recomm = factorization_model.recommend(users=[1,2,3,4,5],k=5)\n",
    "factorization_recomm.print_rows(num_rows=25)"
   ]
  },
  {
   "cell_type": "markdown",
   "metadata": {},
   "source": [
    "# Item- similarity is used to create a recommender based on users in common.\n",
    "# it uses jaccard similarity type.\n",
    "# jaccard is used to measure the similarity between two set of elements\n",
    "![](jaccard.png)"
   ]
  },
  {
   "cell_type": "code",
   "execution_count": 14,
   "metadata": {
    "collapsed": false
   },
   "outputs": [
    {
     "name": "stdout",
     "output_type": "stream",
     "text": [
      "___________________item similarity_____________________\n"
     ]
    },
    {
     "data": {
      "text/html": [
       "<pre>Recsys training: model = item_similarity</pre>"
      ],
      "text/plain": [
       "Recsys training: model = item_similarity"
      ]
     },
     "metadata": {},
     "output_type": "display_data"
    },
    {
     "data": {
      "text/html": [
       "<pre>Preparing data set.</pre>"
      ],
      "text/plain": [
       "Preparing data set."
      ]
     },
     "metadata": {},
     "output_type": "display_data"
    },
    {
     "data": {
      "text/html": [
       "<pre>    Data has 70000 observations with 943 users and 1641 items.</pre>"
      ],
      "text/plain": [
       "    Data has 70000 observations with 943 users and 1641 items."
      ]
     },
     "metadata": {},
     "output_type": "display_data"
    },
    {
     "data": {
      "text/html": [
       "<pre>    Data prepared in: 0.112009s</pre>"
      ],
      "text/plain": [
       "    Data prepared in: 0.112009s"
      ]
     },
     "metadata": {},
     "output_type": "display_data"
    },
    {
     "data": {
      "text/html": [
       "<pre>Training model from provided data.</pre>"
      ],
      "text/plain": [
       "Training model from provided data."
      ]
     },
     "metadata": {},
     "output_type": "display_data"
    },
    {
     "data": {
      "text/html": [
       "<pre>Gathering per-item and per-user statistics.</pre>"
      ],
      "text/plain": [
       "Gathering per-item and per-user statistics."
      ]
     },
     "metadata": {},
     "output_type": "display_data"
    },
    {
     "data": {
      "text/html": [
       "<pre>+--------------------------------+------------+</pre>"
      ],
      "text/plain": [
       "+--------------------------------+------------+"
      ]
     },
     "metadata": {},
     "output_type": "display_data"
    },
    {
     "data": {
      "text/html": [
       "<pre>| Elapsed Time (Item Statistics) | % Complete |</pre>"
      ],
      "text/plain": [
       "| Elapsed Time (Item Statistics) | % Complete |"
      ]
     },
     "metadata": {},
     "output_type": "display_data"
    },
    {
     "data": {
      "text/html": [
       "<pre>+--------------------------------+------------+</pre>"
      ],
      "text/plain": [
       "+--------------------------------+------------+"
      ]
     },
     "metadata": {},
     "output_type": "display_data"
    },
    {
     "data": {
      "text/html": [
       "<pre>| 4ms                            | 100        |</pre>"
      ],
      "text/plain": [
       "| 4ms                            | 100        |"
      ]
     },
     "metadata": {},
     "output_type": "display_data"
    },
    {
     "data": {
      "text/html": [
       "<pre>+--------------------------------+------------+</pre>"
      ],
      "text/plain": [
       "+--------------------------------+------------+"
      ]
     },
     "metadata": {},
     "output_type": "display_data"
    },
    {
     "data": {
      "text/html": [
       "<pre>Setting up lookup tables.</pre>"
      ],
      "text/plain": [
       "Setting up lookup tables."
      ]
     },
     "metadata": {},
     "output_type": "display_data"
    },
    {
     "data": {
      "text/html": [
       "<pre>Processing data in one pass using dense lookup tables.</pre>"
      ],
      "text/plain": [
       "Processing data in one pass using dense lookup tables."
      ]
     },
     "metadata": {},
     "output_type": "display_data"
    },
    {
     "data": {
      "text/html": [
       "<pre>+-------------------------------------+------------------+-----------------+</pre>"
      ],
      "text/plain": [
       "+-------------------------------------+------------------+-----------------+"
      ]
     },
     "metadata": {},
     "output_type": "display_data"
    },
    {
     "data": {
      "text/html": [
       "<pre>| Elapsed Time (Constructing Lookups) | Total % Complete | Items Processed |</pre>"
      ],
      "text/plain": [
       "| Elapsed Time (Constructing Lookups) | Total % Complete | Items Processed |"
      ]
     },
     "metadata": {},
     "output_type": "display_data"
    },
    {
     "data": {
      "text/html": [
       "<pre>+-------------------------------------+------------------+-----------------+</pre>"
      ],
      "text/plain": [
       "+-------------------------------------+------------------+-----------------+"
      ]
     },
     "metadata": {},
     "output_type": "display_data"
    },
    {
     "data": {
      "text/html": [
       "<pre>| 12ms                                | 0                | 2               |</pre>"
      ],
      "text/plain": [
       "| 12ms                                | 0                | 2               |"
      ]
     },
     "metadata": {},
     "output_type": "display_data"
    },
    {
     "data": {
      "text/html": [
       "<pre>| 168.01ms                            | 100              | 1641            |</pre>"
      ],
      "text/plain": [
       "| 168.01ms                            | 100              | 1641            |"
      ]
     },
     "metadata": {},
     "output_type": "display_data"
    },
    {
     "data": {
      "text/html": [
       "<pre>+-------------------------------------+------------------+-----------------+</pre>"
      ],
      "text/plain": [
       "+-------------------------------------+------------------+-----------------+"
      ]
     },
     "metadata": {},
     "output_type": "display_data"
    },
    {
     "data": {
      "text/html": [
       "<pre>Finalizing lookup tables.</pre>"
      ],
      "text/plain": [
       "Finalizing lookup tables."
      ]
     },
     "metadata": {},
     "output_type": "display_data"
    },
    {
     "data": {
      "text/html": [
       "<pre>Generating candidate set for working with new users.</pre>"
      ],
      "text/plain": [
       "Generating candidate set for working with new users."
      ]
     },
     "metadata": {},
     "output_type": "display_data"
    },
    {
     "data": {
      "text/html": [
       "<pre>Finished training in 0.184011s</pre>"
      ],
      "text/plain": [
       "Finished training in 0.184011s"
      ]
     },
     "metadata": {},
     "output_type": "display_data"
    },
    {
     "name": "stdout",
     "output_type": "stream",
     "text": [
      "+---------+---------+-----------------+------+\n",
      "| user_id | item_id |      score      | rank |\n",
      "+---------+---------+-----------------+------+\n",
      "|    1    |   168   |  0.10434918129  |  1   |\n",
      "|    1    |    82   | 0.0942894897536 |  2   |\n",
      "|    1    |   568   | 0.0942560325118 |  3   |\n",
      "|    1    |   423   | 0.0927081114335 |  4   |\n",
      "|    1    |   385   | 0.0909578447567 |  5   |\n",
      "|    2    |   100   |  0.11178384044  |  1   |\n",
      "|    2    |    25   |  0.109791262583 |  2   |\n",
      "|    2    |    50   |  0.104455869306 |  3   |\n",
      "|    2    |   117   |  0.102962319147 |  4   |\n",
      "|    2    |   181   |  0.101092549888 |  5   |\n",
      "|    3    |   313   |  0.104717404414 |  1   |\n",
      "|    3    |   748   | 0.0988484452932 |  2   |\n",
      "|    3    |   301   | 0.0963256343817 |  3   |\n",
      "|    3    |   322   | 0.0951393399483 |  4   |\n",
      "|    3    |   269   | 0.0932805584027 |  5   |\n",
      "|    4    |   328   | 0.0929992124438 |  1   |\n",
      "|    4    |   333   | 0.0836636722088 |  2   |\n",
      "|    4    |    98   | 0.0794060565531 |  3   |\n",
      "|    4    |   302   | 0.0793995857239 |  4   |\n",
      "|    4    |   117   | 0.0784028433263 |  5   |\n",
      "|    5    |   195   |  0.110493676001 |  1   |\n",
      "|    5    |   204   | 0.0982371889243 |  2   |\n",
      "|    5    |    82   | 0.0949914134851 |  3   |\n",
      "|    5    |   393   | 0.0946650680374 |  4   |\n",
      "|    5    |   385   | 0.0929232695523 |  5   |\n",
      "+---------+---------+-----------------+------+\n",
      "[25 rows x 4 columns]\n",
      "\n"
     ]
    }
   ],
   "source": [
    "\n",
    "print(\"___________________item similarity_____________________\")\n",
    "item_similarity_model = graphlab.item_similarity_recommender.create(SFrame(train), user_id='user_id', item_id='item_id',\n",
    "                                                                    target='rating', similarity_type='jaccard')\n",
    "\n",
    "#Making recommendations\n",
    "item_similarity_recomm = item_similarity_model.recommend(users=[1,2,3,4,5],k=5)\n",
    "item_similarity_recomm.print_rows(num_rows=25)"
   ]
  }
 ],
 "metadata": {
  "kernelspec": {
   "display_name": "Python 2",
   "language": "python",
   "name": "python2"
  },
  "language_info": {
   "codemirror_mode": {
    "name": "ipython",
    "version": 2
   },
   "file_extension": ".py",
   "mimetype": "text/x-python",
   "name": "python",
   "nbconvert_exporter": "python",
   "pygments_lexer": "ipython2",
   "version": "2.7.13"
  }
 },
 "nbformat": 4,
 "nbformat_minor": 1
}
